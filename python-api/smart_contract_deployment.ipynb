{
 "cells": [
  {
   "cell_type": "code",
   "execution_count": 1,
   "metadata": {},
   "outputs": [],
   "source": [
    "# Required imports\n",
    "from web3 import Web3\n",
    "import json"
   ]
  },
  {
   "cell_type": "markdown",
   "metadata": {},
   "source": [
    "### Basic interaction using Web3.py library"
   ]
  },
  {
   "cell_type": "code",
   "execution_count": 2,
   "metadata": {},
   "outputs": [],
   "source": [
    "# Loading Infura API key\n",
    "infura_api_key_path = '../../secrets/infura_API_key.txt'\n",
    "with open(infura_api_key_path) as f:\n",
    "    infura_api_key = f.readline()\n",
    "    \n",
    "# Infura url for Ropsten testing network    \n",
    "infura_url = \"https://ropsten.infura.io/v3/%s\" % infura_api_key"
   ]
  },
  {
   "cell_type": "code",
   "execution_count": 3,
   "metadata": {},
   "outputs": [
    {
     "name": "stdout",
     "output_type": "stream",
     "text": [
      "Connection established: True\n",
      "Latest block number: 7807155\n"
     ]
    }
   ],
   "source": [
    "# Instantiate Web3 connection using library\n",
    "web3 = Web3(Web3.HTTPProvider(infura_url))\n",
    "print(\"Connection established: %s\" % web3.isConnected())\n",
    "print(\"Latest block number: %s\" % web3.eth.blockNumber)"
   ]
  },
  {
   "cell_type": "code",
   "execution_count": 4,
   "metadata": {},
   "outputs": [
    {
     "name": "stdout",
     "output_type": "stream",
     "text": [
      "Account balance: 1000000000000000000 wei\n",
      "Account balance: 1 eth\n"
     ]
    }
   ],
   "source": [
    "# Loading account\n",
    "account_path = '../../secrets/account.txt'\n",
    "with open(account_path) as f:\n",
    "    account = f.readline()\n",
    "\n",
    "# Readding account balance\n",
    "balance = web3.eth.getBalance(account)\n",
    "print(\"Account balance: %d wei\" % balance)\n",
    "print(\"Account balance: %d eth\" % web3.fromWei(balance, \"ether\"))"
   ]
  },
  {
   "cell_type": "markdown",
   "metadata": {},
   "source": [
    "### Reading data from smart contracts with Web3.py"
   ]
  },
  {
   "cell_type": "code",
   "execution_count": 5,
   "metadata": {},
   "outputs": [],
   "source": [
    "# Preparing python representation of smart contract using Abstract Binary Interface (abi)\n",
    "omnisego_token_abi_path = './OmiseGoToken/abi.json'\n",
    "with open(omnisego_token_abi_path) as f:\n",
    "    abi = json.load(f)\n",
    "    \n",
    "omisego_token_address_path = './OmiseGoToken/address.txt'\n",
    "with open(omisego_token_address_path) as f:\n",
    "    omnisego_token_address = f.readline()\n",
    "\n",
    "smart_contract = web3.eth.contract(address=omnisego_token_address, abi=abi)"
   ]
  },
  {
   "cell_type": "code",
   "execution_count": null,
   "metadata": {},
   "outputs": [],
   "source": []
  }
 ],
 "metadata": {
  "kernelspec": {
   "display_name": "Python 3",
   "language": "python",
   "name": "python3"
  },
  "language_info": {
   "codemirror_mode": {
    "name": "ipython",
    "version": 3
   },
   "file_extension": ".py",
   "mimetype": "text/x-python",
   "name": "python",
   "nbconvert_exporter": "python",
   "pygments_lexer": "ipython3",
   "version": "3.7.6"
  }
 },
 "nbformat": 4,
 "nbformat_minor": 4
}
