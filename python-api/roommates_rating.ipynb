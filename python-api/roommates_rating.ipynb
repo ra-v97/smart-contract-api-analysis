{
 "cells": [
  {
   "cell_type": "markdown",
   "metadata": {},
   "source": [
    "It is a simple example of Python usage to interact with Ethereum blockchain. \n",
    "Roommates-rating is a DApp for creating rating of roommates with whom we have rented flats together. New user can join system by registration. Every user of the application can create new group or join to an existing one. Group joining requests are confirmed only by group participants. We can rate only users whith whom we participate in any group and rating is created in context of group"
   ]
  },
  {
   "cell_type": "code",
   "execution_count": 8,
   "metadata": {},
   "outputs": [
    {
     "data": {
      "text/plain": [
       "Version('0.4.25+commit.59dbf8f1.Windows.msvc')"
      ]
     },
     "execution_count": 8,
     "metadata": {},
     "output_type": "execute_result"
    }
   ],
   "source": [
    "from solcx import get_solc_version, set_solc_version,get_available_solc_versions\n",
    "get_solc_version()\n",
    "#get_available_solc_versions()"
   ]
  },
  {
   "cell_type": "code",
   "execution_count": 10,
   "metadata": {},
   "outputs": [],
   "source": [
    "from solcx import install_solc\n",
    "install_solc('v0.6.7')"
   ]
  },
  {
   "cell_type": "code",
   "execution_count": 12,
   "metadata": {},
   "outputs": [
    {
     "data": {
      "text/plain": [
       "Version('0.6.7+commit.b8d736ae.Windows.msvc')"
      ]
     },
     "execution_count": 12,
     "metadata": {},
     "output_type": "execute_result"
    }
   ],
   "source": [
    "set_solc_version('v0.6.7')\n",
    "get_solc_version()"
   ]
  },
  {
   "cell_type": "code",
   "execution_count": null,
   "metadata": {},
   "outputs": [],
   "source": []
  }
 ],
 "metadata": {
  "kernelspec": {
   "display_name": "Python 3",
   "language": "python",
   "name": "python3"
  },
  "language_info": {
   "codemirror_mode": {
    "name": "ipython",
    "version": 3
   },
   "file_extension": ".py",
   "mimetype": "text/x-python",
   "name": "python",
   "nbconvert_exporter": "python",
   "pygments_lexer": "ipython3",
   "version": "3.7.6"
  }
 },
 "nbformat": 4,
 "nbformat_minor": 4
}
