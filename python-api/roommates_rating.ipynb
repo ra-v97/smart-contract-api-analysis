{
 "cells": [
  {
   "cell_type": "markdown",
   "metadata": {},
   "source": [
    "# Roommates-rating: python API verification (Web3.py)"
   ]
  },
  {
   "cell_type": "markdown",
   "metadata": {},
   "source": [
    "#### Project description\n",
    "It is a simple example of Python usage to interact with Ethereum blockchain. Main purpose is to verify available Python tools for Ethereum. Project focuses on Web3.py API key features and environment characteristic.\n",
    "\n",
    "\n",
    "#### App description\n",
    "Roommates-rating is a DApp for creating rating of roommates with whom we have rented flats together.\n",
    "\n",
    "###### Features:\n",
    "- New user can join system by registration and user participation is permanent. Every roommate has its unique alias.\n",
    "- Each user of the application can create new group or join an existing one. \n",
    "- In order to join an existing group user needs to send groupJoinRequest. After successful request user receives CANDIDATE status and has to be verified by group owner. After verification new user becomes full member.\n",
    "- User can be also added directly to existing group (without request) by another member with ACTIVE status.\n",
    "- User can be removed from a group by the group owner, and group owner can also delete an existing group.\n",
    "- Ownership can be freely passed to another group member with ACTIVE status. We assume that there is only one group owner.\n",
    "- Every user can rate his roommates but they have to be ACTIVE members of the same group. Rates are always created in context of the given group.\n",
    "- Users can get information about all available groups. Group owner can get information about join requests to his group.\n",
    "- Everyone can obtain mean rating of given roommate. Roommate rating is an uint8 number.\n",
    "\n",
    "\n",
    "#### Tested environment aspects\n",
    "Python environment verification covers full development path from smart contract to Ethereum blockchain interaction from Python code. It is a try of performing all steps using Python tools with emphasis on Web3.py.\n",
    "\n",
    "###### Verified aspects list:\n",
    "- Environment components, Ethereum node, testing Ethereum networks\n",
    "- Communication with Ethereum node and blockchain\n",
    "- Account management\n",
    "- Smart contract creation, editor tools, definition\n",
    "- Contract compilation\n",
    "- Smart contract deployment on Ethereum blockchain\n",
    "- Interaction with deployed contract with Web3.py\n",
    "- Web3.py components"
   ]
  },
  {
   "cell_type": "code",
   "execution_count": 8,
   "metadata": {},
   "outputs": [
    {
     "data": {
      "text/plain": [
       "Version('0.4.25+commit.59dbf8f1.Windows.msvc')"
      ]
     },
     "execution_count": 8,
     "metadata": {},
     "output_type": "execute_result"
    }
   ],
   "source": [
    "## Environment components, Ethereum node, testing Ethereum networks"
   ]
  },
  {
   "cell_type": "code",
   "execution_count": null,
   "metadata": {},
   "outputs": [],
   "source": [
    "## Communication with Ethereum node and blockchain"
   ]
  },
  {
   "cell_type": "code",
   "execution_count": null,
   "metadata": {},
   "outputs": [],
   "source": [
    "## Account management"
   ]
  },
  {
   "cell_type": "code",
   "execution_count": null,
   "metadata": {},
   "outputs": [],
   "source": [
    "## Smart contract creation, editor tools, definition"
   ]
  },
  {
   "cell_type": "code",
   "execution_count": null,
   "metadata": {},
   "outputs": [],
   "source": [
    "## Contract compilation"
   ]
  },
  {
   "cell_type": "code",
   "execution_count": null,
   "metadata": {},
   "outputs": [],
   "source": [
    "## Smart contract deployment on Ethereum blockchain"
   ]
  },
  {
   "cell_type": "code",
   "execution_count": null,
   "metadata": {},
   "outputs": [],
   "source": [
    "## Interaction with deployed contract with Web3.py"
   ]
  },
  {
   "cell_type": "code",
   "execution_count": null,
   "metadata": {},
   "outputs": [],
   "source": [
    "## Web3.py components"
   ]
  },
  {
   "cell_type": "code",
   "execution_count": null,
   "metadata": {},
   "outputs": [],
   "source": []
  },
  {
   "cell_type": "code",
   "execution_count": null,
   "metadata": {},
   "outputs": [],
   "source": [
    "from solcx import get_solc_version, set_solc_version,get_available_solc_versions\n",
    "get_solc_version()\n",
    "#get_available_solc_versions()\n",
    "set_solc_version('v0.6.7')\n",
    "get_solc_version()\n",
    "from solcx import install_solc\n",
    "install_solc('v0.6.7')"
   ]
  }
 ],
 "metadata": {
  "kernelspec": {
   "display_name": "Python 3",
   "language": "python",
   "name": "python3"
  },
  "language_info": {
   "codemirror_mode": {
    "name": "ipython",
    "version": 3
   },
   "file_extension": ".py",
   "mimetype": "text/x-python",
   "name": "python",
   "nbconvert_exporter": "python",
   "pygments_lexer": "ipython3",
   "version": "3.7.6"
  }
 },
 "nbformat": 4,
 "nbformat_minor": 4
}
